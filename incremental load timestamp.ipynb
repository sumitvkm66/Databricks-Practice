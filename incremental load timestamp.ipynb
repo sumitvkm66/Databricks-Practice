{
 "cells": [
  {
   "cell_type": "code",
   "execution_count": 0,
   "metadata": {
    "application/vnd.databricks.v1+cell": {
     "cellMetadata": {
      "byteLimit": 2048000,
      "rowLimit": 10000
     },
     "inputWidgets": {},
     "nuid": "81a13893-cf5a-4f07-9593-421b6dba176c",
     "showTitle": false,
     "tableResultSettingsMap": {},
     "title": ""
    }
   },
   "outputs": [],
   "source": [
    "use catalog my_catalog;\n",
    "use schema default;"
   ]
  },
  {
   "cell_type": "markdown",
   "metadata": {
    "application/vnd.databricks.v1+cell": {
     "cellMetadata": {},
     "inputWidgets": {},
     "nuid": "42c0794d-269f-435d-a0e1-02815b2165b9",
     "showTitle": false,
     "tableResultSettingsMap": {},
     "title": ""
    }
   },
   "source": [
    "Create control table"
   ]
  },
  {
   "cell_type": "code",
   "execution_count": 0,
   "metadata": {
    "application/vnd.databricks.v1+cell": {
     "cellMetadata": {
      "byteLimit": 2048000,
      "rowLimit": 10000
     },
     "inputWidgets": {},
     "nuid": "79f8dabc-da3d-4aa4-9c68-623b8a04835f",
     "showTitle": false,
     "tableResultSettingsMap": {},
     "title": ""
    }
   },
   "outputs": [],
   "source": [
    "create table control_table(\n",
    "  table_name string,\n",
    "  last_loaded_timestamp timestamp\n",
    ")"
   ]
  },
  {
   "cell_type": "markdown",
   "metadata": {
    "application/vnd.databricks.v1+cell": {
     "cellMetadata": {},
     "inputWidgets": {},
     "nuid": "504779c8-4e29-4ef2-92b9-28a2a8327078",
     "showTitle": false,
     "tableResultSettingsMap": {},
     "title": ""
    }
   },
   "source": [
    "Create loan_data table and insert some sample records"
   ]
  },
  {
   "cell_type": "code",
   "execution_count": 0,
   "metadata": {
    "application/vnd.databricks.v1+cell": {
     "cellMetadata": {
      "byteLimit": 2048000,
      "rowLimit": 10000
     },
     "inputWidgets": {},
     "nuid": "8b0fb9b4-ae89-4fb8-8d99-ca4e900385cc",
     "showTitle": false,
     "tableResultSettingsMap": {},
     "title": ""
    }
   },
   "outputs": [],
   "source": [
    "%python\n",
    "from pyspark.sql import SparkSession\n",
    "from pyspark.sql.functions import current_timestamp\n",
    "from datetime import datetime\n",
    "\n",
    "# Sample data\n",
    "data = [\n",
    "    (1, \"John Doe\", 5000, \"approved\", datetime(2024, 7, 1, 10, 0, 0)),\n",
    "    (2, \"Jane Smith\", 8000, \"pending\", datetime(2024, 7, 2, 11, 0, 0)),\n",
    "    (3, \"Alice Johnson\", 12000, \"rejected\", datetime(2024, 7, 3, 9, 30, 0)),\n",
    "    (4, \"Bob Lee\", 7000, \"approved\", datetime(2024, 7, 4, 14, 15, 0))\n",
    "]\n",
    "\n",
    "columns = [\"loan_id\", \"customer_name\", \"loan_amount\", \"loan_status\", \"last_updated_timestamp\"]\n",
    "\n",
    "df = spark.createDataFrame(data, schema=columns)\n",
    "df.show()\n",
    "\n",
    "df.write.format('delta').saveAsTable('loan_data')\n"
   ]
  },
  {
   "cell_type": "code",
   "execution_count": 0,
   "metadata": {
    "application/vnd.databricks.v1+cell": {
     "cellMetadata": {
      "byteLimit": 2048000,
      "rowLimit": 10000
     },
     "inputWidgets": {},
     "nuid": "ea1f0df1-c0b1-4c9c-8740-423ad0368e4c",
     "showTitle": false,
     "tableResultSettingsMap": {},
     "title": ""
    }
   },
   "outputs": [],
   "source": [
    "select * from loan_data"
   ]
  },
  {
   "cell_type": "markdown",
   "metadata": {
    "application/vnd.databricks.v1+cell": {
     "cellMetadata": {},
     "inputWidgets": {},
     "nuid": "800871fa-56be-4da5-add6-00638f847382",
     "showTitle": false,
     "tableResultSettingsMap": {},
     "title": ""
    }
   },
   "source": [
    "Update control table with last_updated_timestamp value from loan_data table"
   ]
  },
  {
   "cell_type": "code",
   "execution_count": 0,
   "metadata": {
    "application/vnd.databricks.v1+cell": {
     "cellMetadata": {
      "byteLimit": 2048000,
      "rowLimit": 10000
     },
     "inputWidgets": {},
     "nuid": "34674045-7fac-49f6-8757-c9babfeea2e7",
     "showTitle": false,
     "tableResultSettingsMap": {},
     "title": ""
    }
   },
   "outputs": [],
   "source": [
    "insert into control_table(table_name) values('loan_data');\n",
    "update control_table\n",
    "set last_loaded_timestamp = (select max(last_updated_timestamp) from loan_data);"
   ]
  },
  {
   "cell_type": "code",
   "execution_count": 0,
   "metadata": {
    "application/vnd.databricks.v1+cell": {
     "cellMetadata": {
      "byteLimit": 2048000,
      "rowLimit": 10000
     },
     "inputWidgets": {},
     "nuid": "3b8cd76a-8fe4-4f2e-9b43-05cb314c6baa",
     "showTitle": false,
     "tableResultSettingsMap": {},
     "title": ""
    }
   },
   "outputs": [],
   "source": [
    "select * from control_table"
   ]
  },
  {
   "cell_type": "markdown",
   "metadata": {
    "application/vnd.databricks.v1+cell": {
     "cellMetadata": {},
     "inputWidgets": {},
     "nuid": "e1f478f3-8d57-47a8-a781-40c96dda0f82",
     "showTitle": false,
     "tableResultSettingsMap": {},
     "title": ""
    }
   },
   "source": [
    "create a loan source table with some sample records"
   ]
  },
  {
   "cell_type": "code",
   "execution_count": 0,
   "metadata": {
    "application/vnd.databricks.v1+cell": {
     "cellMetadata": {
      "byteLimit": 2048000,
      "rowLimit": 10000
     },
     "inputWidgets": {},
     "nuid": "759f8bf3-31ca-42cc-885a-5adfd7a9df88",
     "showTitle": false,
     "tableResultSettingsMap": {},
     "title": ""
    }
   },
   "outputs": [],
   "source": [
    "%python\n",
    "from datetime import datetime\n",
    "from pyspark.sql import Row\n",
    "\n",
    "# Sample source data\n",
    "source_data = [\n",
    "    Row(loan_id=1, customer_name=\"John Doe\", loan_amount=5500, loan_status=\"approved\", last_updated_timestamp=datetime(2024, 7, 6, 12, 0)),\n",
    "    Row(loan_id=2, customer_name=\"Jane Smith\", loan_amount=8000, loan_status=\"approved\", last_updated_timestamp=datetime(2024, 7, 6, 13, 0)),\n",
    "    Row(loan_id=3, customer_name=\"Alice Johnson\", loan_amount=12000, loan_status=\"rejected\", last_updated_timestamp=datetime(2024, 7, 3, 9, 30)),\n",
    "    Row(loan_id=5, customer_name=\"Carlos Gomez\", loan_amount=9000, loan_status=\"pending\", last_updated_timestamp=datetime(2024, 7, 6, 15, 0)),\n",
    "]\n",
    "\n",
    "# Create DataFrame\n",
    "source_df = spark.createDataFrame(source_data)\n",
    "\n",
    "# Show for verification\n",
    "source_df.show()\n",
    "\n",
    "# Save as Delta table\n",
    "source_df.write.format(\"delta\").mode(\"overwrite\").saveAsTable(\"default.loan_source_data\")\n"
   ]
  },
  {
   "cell_type": "code",
   "execution_count": 0,
   "metadata": {
    "application/vnd.databricks.v1+cell": {
     "cellMetadata": {
      "byteLimit": 2048000,
      "rowLimit": 10000
     },
     "inputWidgets": {},
     "nuid": "083fa2ef-2e9e-41c6-a8cc-77a8fb48e9f1",
     "showTitle": false,
     "tableResultSettingsMap": {},
     "title": ""
    }
   },
   "outputs": [],
   "source": [
    "select * from loan_source_data"
   ]
  },
  {
   "cell_type": "code",
   "execution_count": 0,
   "metadata": {
    "application/vnd.databricks.v1+cell": {
     "cellMetadata": {
      "byteLimit": 2048000,
      "rowLimit": 10000
     },
     "inputWidgets": {},
     "nuid": "d8ac7a90-1c16-46ef-8181-8c39bb7b2952",
     "showTitle": false,
     "tableResultSettingsMap": {},
     "title": ""
    }
   },
   "outputs": [],
   "source": [
    "select * from loan_data"
   ]
  },
  {
   "cell_type": "markdown",
   "metadata": {
    "application/vnd.databricks.v1+cell": {
     "cellMetadata": {},
     "inputWidgets": {},
     "nuid": "4e5d1849-4cd9-48b4-8f3a-68e721108862",
     "showTitle": false,
     "tableResultSettingsMap": {},
     "title": ""
    }
   },
   "source": [
    "Filter records from source table with last_updated_timestamp greater than max last_updated_timestamp"
   ]
  },
  {
   "cell_type": "code",
   "execution_count": 0,
   "metadata": {
    "application/vnd.databricks.v1+cell": {
     "cellMetadata": {
      "byteLimit": 2048000,
      "rowLimit": 10000
     },
     "inputWidgets": {},
     "nuid": "617b3ca9-4bda-4976-b080-88f7d97317ee",
     "showTitle": false,
     "tableResultSettingsMap": {},
     "title": ""
    }
   },
   "outputs": [],
   "source": [
    "with source_data as(\n",
    "  select * from loan_source_data\n",
    "  where last_updated_timestamp > (\n",
    "    select last_loaded_timestamp from control_table where table_name = 'loan_data'\n",
    "  )\n",
    ")\n",
    "merge into loan_data as target\n",
    "using source_data as source on target.loan_id = source.loan_id\n",
    "when matched then \n",
    "  update set *\n",
    "when not matched then \n",
    "  insert *"
   ]
  },
  {
   "cell_type": "code",
   "execution_count": 0,
   "metadata": {
    "application/vnd.databricks.v1+cell": {
     "cellMetadata": {
      "byteLimit": 2048000,
      "rowLimit": 10000
     },
     "inputWidgets": {},
     "nuid": "6f98d5b9-a7d4-45fb-8569-b5508e01e81b",
     "showTitle": false,
     "tableResultSettingsMap": {},
     "title": ""
    }
   },
   "outputs": [],
   "source": [
    "select * from loan_data order by 1"
   ]
  },
  {
   "cell_type": "code",
   "execution_count": 0,
   "metadata": {
    "application/vnd.databricks.v1+cell": {
     "cellMetadata": {},
     "inputWidgets": {},
     "nuid": "15660465-f0f6-4cbe-8f63-7a2aec827096",
     "showTitle": false,
     "tableResultSettingsMap": {},
     "title": ""
    }
   },
   "outputs": [],
   "source": []
  }
 ],
 "metadata": {
  "application/vnd.databricks.v1+notebook": {
   "computePreferences": null,
   "dashboards": [],
   "environmentMetadata": {
    "base_environment": "",
    "environment_version": "2"
   },
   "inputWidgetPreferences": null,
   "language": "sql",
   "notebookMetadata": {
    "pythonIndentUnit": 4
   },
   "notebookName": "incremental load timestamp",
   "widgets": {}
  },
  "language_info": {
   "name": "sql"
  }
 },
 "nbformat": 4,
 "nbformat_minor": 0
}
