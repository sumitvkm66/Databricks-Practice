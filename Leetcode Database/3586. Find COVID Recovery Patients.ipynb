{
 "cells": [
  {
   "cell_type": "code",
   "execution_count": 0,
   "metadata": {
    "application/vnd.databricks.v1+cell": {
     "cellMetadata": {
      "byteLimit": 2048000,
      "implicitDf": true,
      "rowLimit": 10000
     },
     "inputWidgets": {},
     "nuid": "b23b19dd-aeb5-47b0-a427-a6a01ddd6314",
     "showTitle": false,
     "tableResultSettingsMap": {},
     "title": ""
    }
   },
   "outputs": [],
   "source": [
    "from pyspark.sql import SparkSession\n",
    "from pyspark.sql.types import StructType, StructField, IntegerType, StringType, DateType\n",
    "\n",
    "spark = SparkSession.builder.getOrCreate()\n",
    "\n",
    "# Patients DataFrame\n",
    "patients_data = [\n",
    "    (1, \"Alice Smith\", 28),\n",
    "    (2, \"Bob Johnson\", 35),\n",
    "    (3, \"Carol Davis\", 42),\n",
    "    (4, \"David Wilson\", 31),\n",
    "    (5, \"Emma Brown\", 29)\n",
    "]\n",
    "\n",
    "patients_schema = StructType([\n",
    "    StructField(\"patient_id\", IntegerType(), True),\n",
    "    StructField(\"patient_name\", StringType(), True),\n",
    "    StructField(\"age\", IntegerType(), True)\n",
    "])\n",
    "\n",
    "patients = spark.createDataFrame(patients_data, schema=patients_schema)\n",
    "\n",
    "# Covid Tests DataFrame\n",
    "covid_tests_data = [\n",
    "    (1, 1, \"2023-01-15\", \"Positive\"),\n",
    "    (2, 1, \"2023-01-25\", \"Negative\"),\n",
    "    (3, 2, \"2023-02-01\", \"Positive\"),\n",
    "    (4, 2, \"2023-02-05\", \"Inconclusive\"),\n",
    "    (5, 2, \"2023-02-12\", \"Negative\"),\n",
    "    (6, 3, \"2023-01-20\", \"Negative\"),\n",
    "    (7, 3, \"2023-02-10\", \"Positive\"),\n",
    "    (8, 3, \"2023-02-20\", \"Negative\"),\n",
    "    (9, 4, \"2023-01-10\", \"Positive\"),\n",
    "    (10, 4, \"2023-01-18\", \"Positive\"),\n",
    "    (11, 5, \"2023-02-15\", \"Negative\"),\n",
    "    (12, 5, \"2023-02-20\", \"Negative\")\n",
    "]\n",
    "\n",
    "covid_tests_schema = StructType([\n",
    "    StructField(\"test_id\", IntegerType(), True),\n",
    "    StructField(\"patient_id\", IntegerType(), True),\n",
    "    StructField(\"test_date\", StringType(), True),  # You can cast this to DateType if needed\n",
    "    StructField(\"result\", StringType(), True)\n",
    "])\n",
    "\n",
    "covid_tests = spark.createDataFrame(covid_tests_data, schema=covid_tests_schema)\n"
   ]
  },
  {
   "cell_type": "code",
   "execution_count": 0,
   "metadata": {
    "application/vnd.databricks.v1+cell": {
     "cellMetadata": {
      "byteLimit": 2048000,
      "rowLimit": 10000
     },
     "inputWidgets": {},
     "nuid": "c81e0da6-d169-45be-93f2-98050dfd9fd2",
     "showTitle": false,
     "tableResultSettingsMap": {},
     "title": ""
    }
   },
   "outputs": [],
   "source": [
    "patients.show()\n",
    "covid_tests.show()"
   ]
  },
  {
   "cell_type": "code",
   "execution_count": 0,
   "metadata": {
    "application/vnd.databricks.v1+cell": {
     "cellMetadata": {
      "byteLimit": 2048000,
      "rowLimit": 10000
     },
     "inputWidgets": {},
     "nuid": "8f4b91ea-2643-4e05-99d5-b4847721670c",
     "showTitle": false,
     "tableResultSettingsMap": {},
     "title": ""
    }
   },
   "outputs": [],
   "source": [
    "from pyspark.sql.functions import *\n",
    "from pyspark.sql import Window"
   ]
  },
  {
   "cell_type": "code",
   "execution_count": 0,
   "metadata": {
    "application/vnd.databricks.v1+cell": {
     "cellMetadata": {
      "byteLimit": 2048000,
      "rowLimit": 10000
     },
     "inputWidgets": {},
     "nuid": "9f811dc9-7fb8-4ede-ba76-64cb8593c9dd",
     "showTitle": false,
     "tableResultSettingsMap": {},
     "title": ""
    }
   },
   "outputs": [],
   "source": [
    "positive = covid_tests.filter(col('result')=='Positive')\n",
    "negative = covid_tests.filter('result==\"Negative\"')\n",
    "\n",
    "first_recovered = positive.join(negative, on='patient_id', how='inner')\\\n",
    "    .filter(positive.test_date < negative.test_date)\\\n",
    "    .withColumn('rn',row_number().over(Window.partitionBy('patient_id').orderBy(desc(positive.test_date))))\\\n",
    "    .filter('rn==1')\\\n",
    "    .withColumn('recovery_time',datediff(negative.test_date, positive.test_date))\\\n",
    "    .select('patient_id','recovery_time')\n",
    "\n",
    "first_recovered.alias('r').join(patients.alias('p'), on='patient_id', how='inner')\\\n",
    "    .select(col('r.patient_id'),'patient_name','age', 'recovery_time')\\\n",
    "    .orderBy('recovery_time','patient_name')\\\n",
    "    .show()\n"
   ]
  }
 ],
 "metadata": {
  "application/vnd.databricks.v1+notebook": {
   "computePreferences": null,
   "dashboards": [],
   "environmentMetadata": {
    "base_environment": "",
    "environment_version": "2"
   },
   "inputWidgetPreferences": null,
   "language": "python",
   "notebookMetadata": {
    "mostRecentlyExecutedCommandWithImplicitDF": {
     "commandId": -1,
     "dataframes": [
      "_sqldf"
     ]
    },
    "pythonIndentUnit": 4
   },
   "notebookName": "3586. Find COVID Recovery Patients",
   "widgets": {}
  },
  "language_info": {
   "name": "python"
  }
 },
 "nbformat": 4,
 "nbformat_minor": 0
}
